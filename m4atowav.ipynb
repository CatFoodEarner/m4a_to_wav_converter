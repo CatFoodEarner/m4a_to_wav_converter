{
 "cells": [
  {
   "cell_type": "code",
   "execution_count": 1,
   "id": "3a6c9d78-24c9-47f5-8eae-89a0f20648fe",
   "metadata": {},
   "outputs": [],
   "source": [
    "import subprocess, ffmpeg"
   ]
  },
  {
   "cell_type": "code",
   "execution_count": 21,
   "id": "5e6a80ef-58a7-4f9d-aa20-28bb64cf3d44",
   "metadata": {},
   "outputs": [],
   "source": [
    "import os\n",
    "import tkinter as tk\n",
    "from tkinter import filedialog, messagebox"
   ]
  },
  {
   "cell_type": "code",
   "execution_count": 7,
   "id": "5301823a-83f9-4221-932c-4be7f62a8ae6",
   "metadata": {},
   "outputs": [],
   "source": [
    "# from pydub import AudioSegment\n",
    "import os, glob\n",
    "\n",
    "ext = '.m4a'\n",
    "wav = '.wav'\n",
    "load_path='./2025-03-23'\n",
    "\n",
    "file_list = [file for file in os.listdir(load_path) if file.endswith(ext)]\n"
   ]
  },
  {
   "cell_type": "code",
   "execution_count": 27,
   "id": "d145505b-774f-4f0a-a491-c34eed30b77a",
   "metadata": {},
   "outputs": [
    {
     "name": "stdout",
     "output_type": "stream",
     "text": [
      "D:/Documents/Projects/m4atowav/test/BA2.wav로 변환되었습니다.\n",
      "D:/Documents/Projects/m4atowav/test/Starch.wav로 변환되었습니다.\n",
      "D:/Documents/Projects/m4atowav/test/Starch2.wav로 변환되었습니다.\n"
     ]
    }
   ],
   "source": [
    "## gui based\n",
    "import subprocess, ffmpeg\n",
    "import os\n",
    "import tkinter as tk\n",
    "from tkinter import filedialog, messagebox\n",
    "\n",
    "def convert_m4a_to_wav():\n",
    "    input_files = filedialog.askopenfilenames(filetypes=[(\"M4A 파일\", \"*.m4a\")])\n",
    "    \"\"\"\n",
    "    m4a 파일을 WAV 포맷(PCM_S16LE, 48000Hz, 모노)으로 변환합니다.\n",
    "    \n",
    "    Args:\n",
    "        input_file: 입력 m4a 파일 경로\n",
    "        output_file: 출력 WAV 파일 경로 (기본값: 입력 파일명에서 확장자만 wav로 변경)\n",
    "    \"\"\"\n",
    "    if input_files:\n",
    "        for input_file in input_files:\n",
    "            output_file = os.path.splitext(input_file)[0] + '.wav'\n",
    "            cmd = [\n",
    "                'ffmpeg',\n",
    "                '-i', input_file,\n",
    "                '-acodec', 'pcm_s16le',\n",
    "                '-ar', '48000',\n",
    "                '-ac', '1',\n",
    "                output_file\n",
    "            ]\n",
    "            try:\n",
    "                subprocess.run(cmd, check=True)\n",
    "                print(f\"{output_file}로 변환되었습니다.\")\n",
    "            except subprocess.CalledProcessError as e:\n",
    "                tk.messagebox.showerror(\"오류\", f\"{input_file} 변환 중 오류가 발생했습니다: {e}\")\n",
    "        tk.messagebox.showinfo(\"변환 완료\", \"선택한 모든 파일의 변환이 완료되었습니다.\")\n",
    "    \n",
    "# GUI 생성\n",
    "root = tk.Tk()\n",
    "root.title(\"M4A to WAV 변환기\")\n",
    "button = tk.Button(root, text=\"M4A 파일 선택 및 변환\", command=convert_m4a_to_wav)\n",
    "button.pack(padx=20, pady=20)\n",
    "root.mainloop()\n",
    "\n"
   ]
  },
  {
   "cell_type": "code",
   "execution_count": 9,
   "id": "c7ee16dc-2b6b-48e9-a368-f6ed8f27fa75",
   "metadata": {},
   "outputs": [
    {
     "data": {
      "text/plain": [
       "['Coffee roaster.m4a', 'Decaf coffee.m4a', 'Pension.m4a', 'Yunakim.m4a']"
      ]
     },
     "execution_count": 9,
     "metadata": {},
     "output_type": "execute_result"
    }
   ],
   "source": [
    "file_list"
   ]
  },
  {
   "cell_type": "code",
   "execution_count": 11,
   "id": "a27fca6b-c172-4819-aa0a-1b0483256591",
   "metadata": {},
   "outputs": [],
   "source": [
    "import subprocess\n",
    "import os\n",
    "\n",
    "def convert_m4a_to_wav(input_file, output_file=None):\n",
    "    \"\"\"\n",
    "    m4a 파일을 WAV 포맷(PCM_S16LE, 48000Hz, 모노)으로 변환합니다.\n",
    "    \n",
    "    Args:\n",
    "        input_file: 입력 m4a 파일 경로\n",
    "        output_file: 출력 WAV 파일 경로 (기본값: 입력 파일명에서 확장자만 wav로 변경)\n",
    "    \"\"\"\n",
    "    if output_file is None:\n",
    "        output_file = os.path.splitext(input_file)[0] + '.wav'\n",
    "    \n",
    "    # ffmpeg 명령어 설정\n",
    "    cmd = [\n",
    "        'ffmpeg',\n",
    "        '-i', input_file,           # 입력 파일\n",
    "        '-acodec', 'pcm_s16le',     # PCM_S16LE 코덱\n",
    "        '-ar', '48000',             # 48000Hz 샘플레이트\n",
    "        '-ac', '1',                 # 모노 채널\n",
    "        output_file                 # 출력 파일\n",
    "    ]\n",
    "    \n",
    "    # 명령어 실행\n",
    "    subprocess.run(cmd, check=True)\n",
    "    print(f\"변환 완료: {output_file}\")\n",
    "\n"
   ]
  },
  {
   "cell_type": "code",
   "execution_count": 13,
   "id": "c6654b8d-1930-4618-ad9e-c8d74bb9f21c",
   "metadata": {},
   "outputs": [
    {
     "name": "stdout",
     "output_type": "stream",
     "text": [
      "변환 완료: ./2025-03-23\\Coffee roaster.wav\n",
      "변환 완료: ./2025-03-23\\Decaf coffee.wav\n",
      "변환 완료: ./2025-03-23\\Pension.wav\n",
      "변환 완료: ./2025-03-23\\Yunakim.wav\n"
     ]
    }
   ],
   "source": [
    "for file in file_list:\n",
    "    fname_load = os.path.join(load_path, file)\n",
    "    # fname_save = os.path.join(load_path, file[:-4]+wav)\n",
    "    convert_m4a_to_wav(fname_load)"
   ]
  },
  {
   "cell_type": "code",
   "execution_count": null,
   "id": "eb26e1b6-9e2f-4265-af88-ef37cc8a733d",
   "metadata": {},
   "outputs": [],
   "source": []
  }
 ],
 "metadata": {
  "kernelspec": {
   "display_name": "Python [conda env:proj]",
   "language": "python",
   "name": "conda-env-proj-py"
  },
  "language_info": {
   "codemirror_mode": {
    "name": "ipython",
    "version": 3
   },
   "file_extension": ".py",
   "mimetype": "text/x-python",
   "name": "python",
   "nbconvert_exporter": "python",
   "pygments_lexer": "ipython3",
   "version": "3.13.0"
  }
 },
 "nbformat": 4,
 "nbformat_minor": 5
}
